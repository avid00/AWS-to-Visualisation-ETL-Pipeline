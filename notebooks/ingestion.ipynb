{
 "cells": [
  {
   "cell_type": "code",
   "execution_count": 2,
   "id": "ce396206",
   "metadata": {},
   "outputs": [],
   "source": [
    "import boto3\n",
    "import pandas as pd\n",
    "import os\n",
    "from dotenv import load_dotenv\n",
    "import logging"
   ]
  },
  {
   "cell_type": "code",
   "execution_count": 3,
   "id": "6cc6567c",
   "metadata": {},
   "outputs": [],
   "source": [
    "\n",
    "# Logging the operations\n",
    "logging.basicConfig(\n",
    "    filename='ingestion.log',\n",
    "    level=logging.INFO,\n",
    "    format='%(asctime)s [%(levelname)s]: %(message)s'\n",
    ")"
   ]
  },
  {
   "cell_type": "code",
   "execution_count": 4,
   "id": "64de9a66",
   "metadata": {},
   "outputs": [],
   "source": [
    "\n",
    "# Load .env variables\n",
    "load_dotenv()\n",
    "AWS_REGION = os.getenv(\"AWS_REGION\")\n",
    "S3_BUCKET = os.getenv(\"S3_BUCKET\")\n"
   ]
  },
  {
   "cell_type": "code",
   "execution_count": null,
   "id": "719bdc8f",
   "metadata": {},
   "outputs": [
    {
     "name": "stdout",
     "output_type": "stream",
     "text": [
      " Uploaded strokedata.csv to s3://stroke-etl/raw/strokedata.csv\n"
     ]
    }
   ],
   "source": [
    "# Initialize S3  \n",
    "s3 = boto3.client('s3', region_name=AWS_REGION)\n",
    "\n",
    "def upload_to_s3(local_path, s3_key):\n",
    "    \"\"\"Uploads a file from local storage to S3.\"\"\"\n",
    "    try:\n",
    "        s3.upload_file(local_path, S3_BUCKET, s3_key)\n",
    "        logging.info(f\" Uploaded {local_path} to s3://{S3_BUCKET}/{s3_key}\")\n",
    "        print(f\" Uploaded {local_path} to s3://{S3_BUCKET}/{s3_key}\")\n",
    "    except Exception as e:\n",
    "        logging.error(f\" Failed to upload {local_path}: {e}\")\n",
    "        print(f\" Upload failed: {e}\")\n",
    "\n",
    "\n",
    "# Functions to upload to S3\n",
    "def ingest_dataset():\n",
    "    \"\"\"Reads the dataset and pushes to S3.\"\"\"\n",
    "    \n",
    "    local_path = \"strokedata.csv\"\n",
    "    \n",
    "    if not os.path.exists(local_path):\n",
    "        logging.error(\"Dataset not found on path.\")\n",
    "        return\n",
    "    \n",
    "    s3_key = \"raw/strokedata.csv\"\n",
    "    upload_to_s3(local_path, s3_key)\n",
    "\n",
    "if __name__ == \"__main__\":\n",
    "    logging.info(\"Starting ingestion...\")\n",
    "    ingest_dataset()\n",
    "    logging.info(\"Ingestion complete!\")\n"
   ]
  }
 ],
 "metadata": {
  "kernelspec": {
   "display_name": "Python 3 (ipykernel)",
   "language": "python",
   "name": "python3"
  },
  "language_info": {
   "codemirror_mode": {
    "name": "ipython",
    "version": 3
   },
   "file_extension": ".py",
   "mimetype": "text/x-python",
   "name": "python",
   "nbconvert_exporter": "python",
   "pygments_lexer": "ipython3",
   "version": "3.12.4"
  }
 },
 "nbformat": 4,
 "nbformat_minor": 5
}
