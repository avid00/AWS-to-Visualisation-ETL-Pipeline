{
 "cells": [
  {
   "cell_type": "code",
   "execution_count": null,
   "id": "84888d1b-18b3-4590-b3b5-9a3d9f36e4d5",
   "metadata": {},
   "outputs": [],
   "source": [
    "import boto3\n",
    "import pandas as pd"
   ]
  },
  {
   "cell_type": "raw",
   "id": "595bfa38-9a78-4ffa-8710-d50590f389c0",
   "metadata": {},
   "source": [
    "#Check if the session id is the same as on machine\n",
    "session = boto3.session.Session()\n",
    "print(session.get_credentials().get_frozen_credentials())"
   ]
  },
  {
   "cell_type": "raw",
   "id": "8ddc2744-33b0-428e-9119-f050f4834206",
   "metadata": {},
   "source": [
    "#Checking file in S3\n",
    "s3 = boto3.client('s3')\n",
    "\n",
    "bucket_name = 'stroke-etl'  \n",
    "\n",
    "response = s3.list_objects_v2(Bucket=bucket_name)\n",
    "\n",
    "for obj in response.get('Contents', []):\n",
    "    print(obj['Key'])"
   ]
  },
  {
   "cell_type": "raw",
   "id": "80c2c20a-a643-461f-9738-bf9a8507645f",
   "metadata": {},
   "source": [
    "# Downloading from S3 , comment out since the file is in the folder \n",
    "file_key = 'raw/strokedata.csv'\n",
    "local_filename = 'strokedata.csv'\n",
    "\n",
    "s3.download_file(bucket_name, file_key, local_filename)"
   ]
  },
  {
   "cell_type": "code",
   "execution_count": null,
   "id": "7bcc8c23-6070-412e-b8fa-24c41bbac49c",
   "metadata": {},
   "outputs": [],
   "source": [
    "df = pd.read_csv('strokedata.csv')\n",
    "df.head()\n",
    "df.info()\n",
    "df.describe()"
   ]
  },
  {
   "cell_type": "code",
   "execution_count": null,
   "id": "54f91788-e73c-4723-84b5-79e270c08d4f",
   "metadata": {},
   "outputs": [],
   "source": [
    "#Drop unneed columns and NAs\n",
    "df = df.drop(columns='id',errors='ignore')\n",
    "df = df.dropna()"
   ]
  },
  {
   "cell_type": "code",
   "execution_count": null,
   "id": "4dd9ce4f-2504-432d-b6a8-d6eccdc9a968",
   "metadata": {},
   "outputs": [],
   "source": [
    "# Changing numerical values for ML \n",
    "df['gender'] = df['gender'].map({'Male': 1, 'Female': 0, 'Other': 2})\n",
    "df['work_type'] = df['work_type'].map({\n",
    "    'Private': 0,\n",
    "    'Self-employed': 1,\n",
    "    'Govt_job': 2,\n",
    "    'children': 3,\n",
    "    'Never_worked': 4\n",
    "})\n",
    "df['ever_married'] = df['ever_married'].map({'Yes': 1, 'No': 0})\n",
    "df['Residence_type'] = df['Residence_type'].map({'Urban': 1, 'Rural': 0})\n",
    "df['smoking_status'] = df['smoking_status'].map({\n",
    "    'formerly smoked': 0,\n",
    "    'never smoked': 1,\n",
    "    'smokes': 2,\n",
    "    'Unknown': 3\n",
    "})\n",
    "df = df.reset_index(drop=True)"
   ]
  },
  {
   "cell_type": "code",
   "execution_count": null,
   "id": "e145c5a2-d9c4-491e-993b-cf9af27175c0",
   "metadata": {},
   "outputs": [],
   "source": [
    "# Calculating risk score \n",
    "df['risk_score'] = (\n",
    "    (df['age'] / 100) * 0.4 +\n",
    "    df['hypertension'] * 0.2 +\n",
    "    df['heart_disease'] * 0.2 +\n",
    "    (df['avg_glucose_level'] / 200) * 0.2\n",
    ")"
   ]
  },
  {
   "cell_type": "code",
   "execution_count": null,
   "id": "7aa94eb5-dd01-484b-8fce-3a0517cea76e",
   "metadata": {},
   "outputs": [],
   "source": [
    "#Last check\n",
    "df.head()"
   ]
  },
  {
   "cell_type": "code",
   "execution_count": null,
   "id": "f1f76b8c-5a8c-469f-81fe-47387a212a97",
   "metadata": {},
   "outputs": [],
   "source": [
    "# Create local csv file\n",
    "df.to_csv('processed_strokedata.csv', index=False)"
   ]
  }
 ],
 "metadata": {
  "kernelspec": {
   "display_name": "Python 3 (ipykernel)",
   "language": "python",
   "name": "python3"
  },
  "language_info": {
   "codemirror_mode": {
    "name": "ipython",
    "version": 3
   },
   "file_extension": ".py",
   "mimetype": "text/x-python",
   "name": "python",
   "nbconvert_exporter": "python",
   "pygments_lexer": "ipython3",
   "version": "3.12.4"
  }
 },
 "nbformat": 4,
 "nbformat_minor": 5
}
